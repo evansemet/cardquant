{
 "cells": [
  {
   "cell_type": "code",
   "execution_count": 1,
   "metadata": {},
   "outputs": [],
   "source": [
    "import sys\n",
    "sys.path.append('../cardquant')\n",
    "from card_memoization import CardValuation"
   ]
  },
  {
   "cell_type": "code",
   "execution_count": 2,
   "metadata": {},
   "outputs": [
    {
     "name": "stdout",
     "output_type": "stream",
     "text": [
      "Execution time: 0.147391 seconds per call\n"
     ]
    }
   ],
   "source": [
    "import timeit\n",
    "times = 10\n",
    "execution_time = timeit.timeit('CardValuation()', globals=globals(), number=times)\n",
    "print(f\"Execution time: {execution_time / times:.6f} seconds per call\")"
   ]
  },
  {
   "cell_type": "code",
   "execution_count": 3,
   "metadata": {},
   "outputs": [
    {
     "name": "stdout",
     "output_type": "stream",
     "text": [
      "Execution time: 0.009617 seconds per call\n"
     ]
    }
   ],
   "source": [
    "execution_time = timeit.timeit('CardValuation(calculate_greeks=False)', globals=globals(), number=times)\n",
    "print(f\"Execution time: {execution_time / times:.6f} seconds per call\")"
   ]
  },
  {
   "cell_type": "code",
   "execution_count": 9,
   "metadata": {},
   "outputs": [],
   "source": [
    "# from cardquant import CardValuation\n",
    "\n",
    "pricing_engine = CardValuation(\n",
    "    seen_cards=[]\n",
    ")"
   ]
  },
  {
   "cell_type": "code",
   "execution_count": 10,
   "metadata": {},
   "outputs": [
    {
     "data": {
      "text/html": [
       "<pre style=\"white-space:pre;overflow-x:auto;line-height:normal;font-family:Menlo,'DejaVu Sans Mono',consolas,'Courier New',monospace\"><span style=\"font-style: italic\">                              Future Valuation: 70.0                               </span>\n",
       "┏━━━━━━━━┳━━━━━━━━━━━━┳━━━━━━━━━┳━━━━━━━━━┳━━━━━━━━━┳━━━━━━━━━┳━━━━━━━━━┳━━━━━━━━━┓\n",
       "┃<span style=\"font-weight: bold\"> Strike </span>┃<span style=\"font-weight: bold\"> OptionType </span>┃<span style=\"font-weight: bold\">    Theo </span>┃<span style=\"font-weight: bold\"> Delta Δ </span>┃<span style=\"font-weight: bold\"> Gamma Γ </span>┃<span style=\"font-weight: bold\"> Theta Θ </span>┃<span style=\"font-weight: bold\"> Charm ψ </span>┃<span style=\"font-weight: bold\"> Color χ </span>┃\n",
       "┡━━━━━━━━╇━━━━━━━━━━━━╇━━━━━━━━━╇━━━━━━━━━╇━━━━━━━━━╇━━━━━━━━━╇━━━━━━━━━╇━━━━━━━━━┩\n",
       "│     50 │       CALL │ 20.1199 │  0.9656 │  0.0074 │ -0.0237 │  0.0046 │ -0.0005 │\n",
       "│     50 │        PUT │  0.1199 │ -0.0276 │  0.0062 │ -0.0237 │  0.0041 │ -0.0005 │\n",
       "│     60 │       CALL │ 11.0179 │  0.8091 │  0.0252 │ -0.0898 │  0.0077 │  0.0002 │\n",
       "│     60 │        PUT │  1.0179 │ -0.1667 │  0.0232 │ -0.0898 │  0.0078 │  0.0001 │\n",
       "│     70 │       CALL │  4.3036 │  0.4817 │  0.0365 │ -0.1377 │ -0.0006 │  0.0012 │\n",
       "│     70 │        PUT │  4.3036 │ -0.4817 │  0.0365 │ -0.1377 │  0.0006 │  0.0012 │\n",
       "│     80 │       CALL │  1.0179 │  0.1667 │  0.0232 │ -0.0898 │ -0.0078 │  0.0001 │\n",
       "│     80 │        PUT │ 11.0179 │ -0.8091 │  0.0252 │ -0.0898 │ -0.0077 │  0.0002 │\n",
       "│     90 │       CALL │  0.1199 │  0.0276 │  0.0062 │ -0.0237 │ -0.0041 │ -0.0005 │\n",
       "│     90 │        PUT │ 20.1199 │ -0.9656 │  0.0074 │ -0.0237 │ -0.0046 │ -0.0005 │\n",
       "└────────┴────────────┴─────────┴─────────┴─────────┴─────────┴─────────┴─────────┘\n",
       "</pre>\n"
      ],
      "text/plain": [
       "\u001b[3m                              Future Valuation: 70.0                               \u001b[0m\n",
       "┏━━━━━━━━┳━━━━━━━━━━━━┳━━━━━━━━━┳━━━━━━━━━┳━━━━━━━━━┳━━━━━━━━━┳━━━━━━━━━┳━━━━━━━━━┓\n",
       "┃\u001b[1m \u001b[0m\u001b[1mStrike\u001b[0m\u001b[1m \u001b[0m┃\u001b[1m \u001b[0m\u001b[1mOptionType\u001b[0m\u001b[1m \u001b[0m┃\u001b[1m \u001b[0m\u001b[1m   Theo\u001b[0m\u001b[1m \u001b[0m┃\u001b[1m \u001b[0m\u001b[1mDelta Δ\u001b[0m\u001b[1m \u001b[0m┃\u001b[1m \u001b[0m\u001b[1mGamma Γ\u001b[0m\u001b[1m \u001b[0m┃\u001b[1m \u001b[0m\u001b[1mTheta Θ\u001b[0m\u001b[1m \u001b[0m┃\u001b[1m \u001b[0m\u001b[1mCharm ψ\u001b[0m\u001b[1m \u001b[0m┃\u001b[1m \u001b[0m\u001b[1mColor χ\u001b[0m\u001b[1m \u001b[0m┃\n",
       "┡━━━━━━━━╇━━━━━━━━━━━━╇━━━━━━━━━╇━━━━━━━━━╇━━━━━━━━━╇━━━━━━━━━╇━━━━━━━━━╇━━━━━━━━━┩\n",
       "│     50 │       CALL │ 20.1199 │  0.9656 │  0.0074 │ -0.0237 │  0.0046 │ -0.0005 │\n",
       "│     50 │        PUT │  0.1199 │ -0.0276 │  0.0062 │ -0.0237 │  0.0041 │ -0.0005 │\n",
       "│     60 │       CALL │ 11.0179 │  0.8091 │  0.0252 │ -0.0898 │  0.0077 │  0.0002 │\n",
       "│     60 │        PUT │  1.0179 │ -0.1667 │  0.0232 │ -0.0898 │  0.0078 │  0.0001 │\n",
       "│     70 │       CALL │  4.3036 │  0.4817 │  0.0365 │ -0.1377 │ -0.0006 │  0.0012 │\n",
       "│     70 │        PUT │  4.3036 │ -0.4817 │  0.0365 │ -0.1377 │  0.0006 │  0.0012 │\n",
       "│     80 │       CALL │  1.0179 │  0.1667 │  0.0232 │ -0.0898 │ -0.0078 │  0.0001 │\n",
       "│     80 │        PUT │ 11.0179 │ -0.8091 │  0.0252 │ -0.0898 │ -0.0077 │  0.0002 │\n",
       "│     90 │       CALL │  0.1199 │  0.0276 │  0.0062 │ -0.0237 │ -0.0041 │ -0.0005 │\n",
       "│     90 │        PUT │ 20.1199 │ -0.9656 │  0.0074 │ -0.0237 │ -0.0046 │ -0.0005 │\n",
       "└────────┴────────────┴─────────┴─────────┴─────────┴─────────┴─────────┴─────────┘\n"
      ]
     },
     "metadata": {},
     "output_type": "display_data"
    },
    {
     "name": "stdout",
     "output_type": "stream",
     "text": [
      "\n"
     ]
    }
   ],
   "source": [
    "print(pricing_engine)"
   ]
  },
  {
   "cell_type": "code",
   "execution_count": 6,
   "metadata": {},
   "outputs": [
    {
     "data": {
      "text/plain": [
       "29.5455"
      ]
     },
     "execution_count": 6,
     "metadata": {},
     "output_type": "execute_result"
    }
   ],
   "source": [
    "pricing_engine.options[50].call.theo"
   ]
  },
  {
   "cell_type": "code",
   "execution_count": 11,
   "metadata": {},
   "outputs": [
    {
     "data": {
      "text/plain": [
       "70.0"
      ]
     },
     "execution_count": 11,
     "metadata": {},
     "output_type": "execute_result"
    }
   ],
   "source": [
    "pricing_engine.future"
   ]
  },
  {
   "cell_type": "code",
   "execution_count": null,
   "metadata": {},
   "outputs": [],
   "source": []
  }
 ],
 "metadata": {
  "kernelspec": {
   "display_name": "base",
   "language": "python",
   "name": "python3"
  },
  "language_info": {
   "codemirror_mode": {
    "name": "ipython",
    "version": 3
   },
   "file_extension": ".py",
   "mimetype": "text/x-python",
   "name": "python",
   "nbconvert_exporter": "python",
   "pygments_lexer": "ipython3",
   "version": "3.11.5"
  }
 },
 "nbformat": 4,
 "nbformat_minor": 2
}
