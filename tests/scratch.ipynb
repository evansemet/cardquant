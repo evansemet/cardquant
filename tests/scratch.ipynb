{
 "cells": [
  {
   "cell_type": "code",
   "execution_count": 1,
   "metadata": {},
   "outputs": [],
   "source": [
    "import sys\n",
    "sys.path.append('../cardquant')\n",
    "from card_memoization import CardValuation"
   ]
  },
  {
   "cell_type": "code",
   "execution_count": 41,
   "metadata": {},
   "outputs": [
    {
     "name": "stdout",
     "output_type": "stream",
     "text": [
      "Execution time: 0.147994 seconds per call\n"
     ]
    }
   ],
   "source": [
    "import timeit\n",
    "times = 10\n",
    "execution_time = timeit.timeit('CardValuation()', globals=globals(), number=times)\n",
    "print(f\"Execution time: {execution_time / times:.6f} seconds per call\")"
   ]
  },
  {
   "cell_type": "code",
   "execution_count": 42,
   "metadata": {},
   "outputs": [
    {
     "name": "stdout",
     "output_type": "stream",
     "text": [
      "Execution time: 0.009812 seconds per call\n"
     ]
    }
   ],
   "source": [
    "execution_time = timeit.timeit('CardValuation(calculate_greeks=False)', globals=globals(), number=times)\n",
    "print(f\"Execution time: {execution_time / times:.6f} seconds per call\")"
   ]
  },
  {
   "cell_type": "code",
   "execution_count": 82,
   "metadata": {},
   "outputs": [
    {
     "data": {
      "text/html": [
       "<pre style=\"white-space:pre;overflow-x:auto;line-height:normal;font-family:Menlo,'DejaVu Sans Mono',consolas,'Courier New',monospace\"><span style=\"font-style: italic\">                             Future Valuation: 63.1429                             </span>\n",
       "┏━━━━━━━━┳━━━━━━━━━━━━┳━━━━━━━━━┳━━━━━━━━━┳━━━━━━━━━┳━━━━━━━━━┳━━━━━━━━━┳━━━━━━━━━┓\n",
       "┃<span style=\"font-weight: bold\"> Strike </span>┃<span style=\"font-weight: bold\"> OptionType </span>┃<span style=\"font-weight: bold\">    Theo </span>┃<span style=\"font-weight: bold\"> Delta Δ </span>┃<span style=\"font-weight: bold\"> Gamma Γ </span>┃<span style=\"font-weight: bold\"> Theta Θ </span>┃<span style=\"font-weight: bold\"> Charm ψ </span>┃<span style=\"font-weight: bold\"> Color χ </span>┃\n",
       "┡━━━━━━━━╇━━━━━━━━━━━━╇━━━━━━━━━╇━━━━━━━━━╇━━━━━━━━━╇━━━━━━━━━╇━━━━━━━━━╇━━━━━━━━━┩\n",
       "│     50 │       CALL │ 13.4749 │  0.9098 │  0.0176 │ -0.0731 │  0.0117 │ -0.0007 │\n",
       "│     50 │        PUT │   0.332 │ -0.0738 │  0.0152 │ -0.0731 │  0.0109 │ -0.0009 │\n",
       "│     60 │       CALL │  5.5288 │  0.6106 │  0.0401 │ -0.1874 │  0.0058 │   0.002 │\n",
       "│     60 │        PUT │  2.3859 │ -0.3499 │  0.0388 │ -0.1874 │  0.0077 │  0.0018 │\n",
       "│     70 │       CALL │  1.2555 │  0.2198 │  0.0316 │  -0.153 │ -0.0123 │  0.0008 │\n",
       "│     70 │        PUT │  8.1127 │ -0.7473 │   0.034 │  -0.153 │ -0.0114 │  0.0011 │\n",
       "│     80 │       CALL │  0.1119 │  0.0301 │   0.008 │ -0.0365 │ -0.0074 │ -0.0011 │\n",
       "│     80 │        PUT │  16.969 │ -0.9611 │  0.0097 │ -0.0365 │ -0.0085 │ -0.0011 │\n",
       "│     90 │       CALL │  0.0019 │  0.0008 │  0.0004 │ -0.0014 │ -0.0006 │ -0.0002 │\n",
       "│     90 │        PUT │  26.859 │ -0.9987 │  0.0006 │ -0.0014 │ -0.0008 │ -0.0003 │\n",
       "└────────┴────────────┴─────────┴─────────┴─────────┴─────────┴─────────┴─────────┘\n",
       "</pre>\n"
      ],
      "text/plain": [
       "\u001b[3m                             Future Valuation: 63.1429                             \u001b[0m\n",
       "┏━━━━━━━━┳━━━━━━━━━━━━┳━━━━━━━━━┳━━━━━━━━━┳━━━━━━━━━┳━━━━━━━━━┳━━━━━━━━━┳━━━━━━━━━┓\n",
       "┃\u001b[1m \u001b[0m\u001b[1mStrike\u001b[0m\u001b[1m \u001b[0m┃\u001b[1m \u001b[0m\u001b[1mOptionType\u001b[0m\u001b[1m \u001b[0m┃\u001b[1m \u001b[0m\u001b[1m   Theo\u001b[0m\u001b[1m \u001b[0m┃\u001b[1m \u001b[0m\u001b[1mDelta Δ\u001b[0m\u001b[1m \u001b[0m┃\u001b[1m \u001b[0m\u001b[1mGamma Γ\u001b[0m\u001b[1m \u001b[0m┃\u001b[1m \u001b[0m\u001b[1mTheta Θ\u001b[0m\u001b[1m \u001b[0m┃\u001b[1m \u001b[0m\u001b[1mCharm ψ\u001b[0m\u001b[1m \u001b[0m┃\u001b[1m \u001b[0m\u001b[1mColor χ\u001b[0m\u001b[1m \u001b[0m┃\n",
       "┡━━━━━━━━╇━━━━━━━━━━━━╇━━━━━━━━━╇━━━━━━━━━╇━━━━━━━━━╇━━━━━━━━━╇━━━━━━━━━╇━━━━━━━━━┩\n",
       "│     50 │       CALL │ 13.4749 │  0.9098 │  0.0176 │ -0.0731 │  0.0117 │ -0.0007 │\n",
       "│     50 │        PUT │   0.332 │ -0.0738 │  0.0152 │ -0.0731 │  0.0109 │ -0.0009 │\n",
       "│     60 │       CALL │  5.5288 │  0.6106 │  0.0401 │ -0.1874 │  0.0058 │   0.002 │\n",
       "│     60 │        PUT │  2.3859 │ -0.3499 │  0.0388 │ -0.1874 │  0.0077 │  0.0018 │\n",
       "│     70 │       CALL │  1.2555 │  0.2198 │  0.0316 │  -0.153 │ -0.0123 │  0.0008 │\n",
       "│     70 │        PUT │  8.1127 │ -0.7473 │   0.034 │  -0.153 │ -0.0114 │  0.0011 │\n",
       "│     80 │       CALL │  0.1119 │  0.0301 │   0.008 │ -0.0365 │ -0.0074 │ -0.0011 │\n",
       "│     80 │        PUT │  16.969 │ -0.9611 │  0.0097 │ -0.0365 │ -0.0085 │ -0.0011 │\n",
       "│     90 │       CALL │  0.0019 │  0.0008 │  0.0004 │ -0.0014 │ -0.0006 │ -0.0002 │\n",
       "│     90 │        PUT │  26.859 │ -0.9987 │  0.0006 │ -0.0014 │ -0.0008 │ -0.0003 │\n",
       "└────────┴────────────┴─────────┴─────────┴─────────┴─────────┴─────────┴─────────┘\n"
      ]
     },
     "metadata": {},
     "output_type": "display_data"
    },
    {
     "name": "stdout",
     "output_type": "stream",
     "text": [
      "\n"
     ]
    }
   ],
   "source": [
    "pricing_engine = CardValuation(\n",
    "    n=10,\n",
    "    seen_cards=[2,5,6],\n",
    "    with_replacement=False,\n",
    "    deck=list(range(1,14))*4,\n",
    "    strike_list=list(range(50,91,10)),\n",
    "    calculate_greeks=True\n",
    ")\n",
    "\n",
    "print(pricing_engine)"
   ]
  },
  {
   "cell_type": "code",
   "execution_count": 81,
   "metadata": {},
   "outputs": [
    {
     "data": {
      "text/plain": [
       "5.5288"
      ]
     },
     "execution_count": 81,
     "metadata": {},
     "output_type": "execute_result"
    }
   ],
   "source": [
    "pricing_engine.options[60].call.theo"
   ]
  },
  {
   "cell_type": "code",
   "execution_count": null,
   "metadata": {},
   "outputs": [],
   "source": []
  }
 ],
 "metadata": {
  "kernelspec": {
   "display_name": "base",
   "language": "python",
   "name": "python3"
  },
  "language_info": {
   "codemirror_mode": {
    "name": "ipython",
    "version": 3
   },
   "file_extension": ".py",
   "mimetype": "text/x-python",
   "name": "python",
   "nbconvert_exporter": "python",
   "pygments_lexer": "ipython3",
   "version": "3.11.5"
  }
 },
 "nbformat": 4,
 "nbformat_minor": 2
}
