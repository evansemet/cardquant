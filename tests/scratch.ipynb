{
 "cells": [
  {
   "cell_type": "code",
   "execution_count": 2,
   "metadata": {},
   "outputs": [],
   "source": [
    "import sys\n",
    "sys.path.append('../cardquant')\n",
    "from card_memoization import CardValuation"
   ]
  },
  {
   "cell_type": "code",
   "execution_count": 3,
   "metadata": {},
   "outputs": [
    {
     "name": "stdout",
     "output_type": "stream",
     "text": [
      " Strike OptionType    Theo   Delta  Gamma   Theta\n",
      "     50       CALL 35.7500  1.0000 0.0000 -0.0000\n",
      "     50        PUT  0.0000  0.0000 0.0000  0.0000\n",
      "     60       CALL 25.7504  0.9996 0.0003 -0.0004\n",
      "     60        PUT  0.0004 -0.0002 0.0002 -0.0004\n",
      "     70       CALL 15.8289  0.9667 0.0097 -0.0338\n",
      "     70        PUT  0.0789 -0.0246 0.0077 -0.0338\n",
      "     80       CALL  6.9856  0.7274 0.0391 -0.1754\n",
      "     80        PUT  1.2356 -0.2348 0.0364 -0.1754\n",
      "     90       CALL  1.6808  0.2890 0.0395 -0.1924\n",
      "     90        PUT  5.9308 -0.6702 0.0418 -0.1924\n"
     ]
    }
   ],
   "source": [
    "valuation = CardValuation(\n",
    "    n=10,\n",
    "    strike_list=list(range(50,91,10)),\n",
    "    seen_cards=[10,11,12,13],\n",
    "    deck=list(range(1,14))*4\n",
    ")\n",
    "print(valuation)"
   ]
  },
  {
   "cell_type": "code",
   "execution_count": 4,
   "metadata": {},
   "outputs": [
    {
     "data": {
      "text/plain": [
       "35.75"
      ]
     },
     "execution_count": 4,
     "metadata": {},
     "output_type": "execute_result"
    }
   ],
   "source": [
    "valuation.options[50].call.theo"
   ]
  }
 ],
 "metadata": {
  "kernelspec": {
   "display_name": "base",
   "language": "python",
   "name": "python3"
  },
  "language_info": {
   "codemirror_mode": {
    "name": "ipython",
    "version": 3
   },
   "file_extension": ".py",
   "mimetype": "text/x-python",
   "name": "python",
   "nbconvert_exporter": "python",
   "pygments_lexer": "ipython3",
   "version": "3.11.5"
  }
 },
 "nbformat": 4,
 "nbformat_minor": 2
}
